{
 "cells": [
  {
   "cell_type": "markdown",
   "metadata": {},
   "source": [
    "### Summer Research School in Computational Biology and Bioinformatics - testing notebook.\n",
    "This is to be run on your computer after downloading or cloning the Git repository. See instructions in CompBioSummerSchool_Questions.pdf"
   ]
  },
  {
   "cell_type": "code",
   "execution_count": 9,
   "metadata": {},
   "outputs": [
    {
     "name": "stdout",
     "output_type": "stream",
     "text": [
      "Question 0.\n",
      "Q0: Placeholder answer has NOT been modified. Please make this function return your name and email address!\n",
      "\n",
      "Question 1.\n",
      "Trying: Q1_GC_Content(\"GCATGCACATAGCAGCGAGCTACTACATCGCGGCTAGACTACTGAGCGA\")\n",
      "Should return: 55.10204081632652\n",
      "Yours returns: nothing\n",
      "Q1: FAILED on example case.\n",
      "\n",
      "Question 2.\n",
      "Trying: Q2_Translation(\"CAGGTGACCTTGAAGGAGTCTGGTCCTGCGCTAGTGAAACCCACACAGACCCTCACGCTGACCTGCACCTTCTCTGGGTTCTCA\")\n",
      "Should return: QVTLKESGPALVKPTQTLTLTCTFSGFS\n",
      "Yours returns: nothing\n",
      "Q2: FAILED on example case.\n",
      "\n",
      "Question 3.\n",
      "Trying: Q3_magically_annoying_coin(\"HTHHTH\")\n",
      "Should return: -5.0875963352323845\n",
      "Yours returns: nothing\n",
      "Q3: FAILED on example case.\n",
      "\n",
      "Question 4.\n",
      "Trying: Q4_Biggest_Product([1.6, 0.56, 1.3, 1.5, 0.9, 1.5, 2.5, 1.1, 0.46, 0.65])\n",
      "Should return: (3, 8)\n",
      "Yours returns: nothing\n",
      "Q4: FAILED on example case.\n",
      "\n",
      "Question 5.\n",
      "(Text answer. This only checks if the placeholder text has been changed)\n",
      "Q5: Placeholder answer has NOT been modified. Please answer the question in the return line.\n",
      "\n",
      "Question 6.\n",
      "Trying: Q6_Array_yeet([-5, 9, -3, -2, -9, -2, 2, 11, -1, -4, -10, 21], [-4, -4, -2, -9, -2, 8, 3, 10, -2, -3, -9])\n",
      "Should return: (10.0, [2, 12], [5])\n",
      "Yours returns: nothing\n",
      "Q6: FAILED on example case.\n",
      "\n",
      "Question 7.\n",
      "Trying: Q7_Barcodes(6,3)\n",
      "Should return a barcode set that passes the conditions, with barcodes as short as possible.\n",
      "Yours returns: nothing\n",
      "Q7: Barcode conditions FAILED on example case.\n",
      "\n"
     ]
    }
   ],
   "source": [
    "#Import your functions, and run the test. All tests should fail at first.\n",
    "include(\"functions.jl\");\n",
    "include(\"test.jl\")"
   ]
  }
 ],
 "metadata": {
  "@webio": {
   "lastCommId": null,
   "lastKernelId": null
  },
  "kernelspec": {
   "display_name": "Julia 1.1.1",
   "language": "julia",
   "name": "julia-1.1"
  },
  "language_info": {
   "file_extension": ".jl",
   "mimetype": "application/julia",
   "name": "julia",
   "version": "1.1.1"
  }
 },
 "nbformat": 4,
 "nbformat_minor": 2
}
